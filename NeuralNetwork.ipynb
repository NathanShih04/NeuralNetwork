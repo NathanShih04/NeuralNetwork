{
 "cells": [
  {
   "cell_type": "code",
   "execution_count": 1,
   "id": "4d1c1953-5d20-48cb-b7d7-3655931fef13",
   "metadata": {},
   "outputs": [],
   "source": [
    "import numpy as np\n",
    "import random\n",
    "from matplotlib import pyplot as plt"
   ]
  },
  {
   "cell_type": "code",
   "execution_count": 2,
   "id": "8d0db2c8-6e10-4bb8-9c18-043439a9b979",
   "metadata": {},
   "outputs": [],
   "source": [
    "from mnist import MNIST"
   ]
  },
  {
   "cell_type": "code",
   "execution_count": 3,
   "id": "e354bcd7-bfe0-42e4-a4fd-353afb27ebe3",
   "metadata": {},
   "outputs": [],
   "source": [
    "mndata = MNIST('mnist')\n",
    "images, labels = mndata.load_training()"
   ]
  },
  {
   "cell_type": "code",
   "execution_count": 4,
   "id": "27c7d0e9-448a-4269-a2c3-152da032ec5e",
   "metadata": {},
   "outputs": [
    {
     "data": {
      "text/plain": [
       "0.002466509291359931"
      ]
     },
     "execution_count": 4,
     "metadata": {},
     "output_type": "execute_result"
    }
   ],
   "source": [
    "def sig(x):\n",
    "    return 1/(1 + np.exp(-x))\n",
    "sig(5)\n",
    "\n",
    "def sigmoid_derivative(x):\n",
    "    ans = sig(x) * (1-sig(x))\n",
    "    return ans\n",
    "sigmoid_derivative(6)"
   ]
  },
  {
   "cell_type": "code",
   "execution_count": 5,
   "id": "3467b751-dc92-4c30-bbed-01a03cf1f69a",
   "metadata": {},
   "outputs": [],
   "source": [
    "weight1 = np.random.rand(784, 500)* 2 - 1\n",
    "weight2 = np.random.rand(500, 10)* 2 - 1"
   ]
  },
  {
   "cell_type": "code",
   "execution_count": 6,
   "id": "1940f9cd-c9e8-4c8f-9c5e-2aaa6f7eb9cc",
   "metadata": {},
   "outputs": [
    {
     "name": "stdout",
     "output_type": "stream",
     "text": [
      "[0, 0, 0, 0, 0, 0, 0, 0, 0, 1]\n"
     ]
    }
   ],
   "source": [
    "def ind(num):\n",
    "    vector = [0, 0, 0, 0, 0, 0, 0, 0, 0, 0]\n",
    "    vector[num] = 1\n",
    "    return vector\n",
    "\n",
    "print(ind(9))"
   ]
  },
  {
   "cell_type": "code",
   "execution_count": 7,
   "id": "fbcaa1b5-3523-49c5-be49-778ce75333d5",
   "metadata": {},
   "outputs": [],
   "source": [
    "modLabels = []\n",
    "\n",
    "for i in range(len(labels)):\n",
    "    modLabels.append(ind(labels[i]))"
   ]
  },
  {
   "cell_type": "code",
   "execution_count": 8,
   "id": "2c397cfe-4447-4d69-8c3c-a9f978dcc4b0",
   "metadata": {},
   "outputs": [
    {
     "name": "stderr",
     "output_type": "stream",
     "text": [
      "C:\\Users\\Nated\\AppData\\Local\\Temp/ipykernel_15760/2767602098.py:2: RuntimeWarning: overflow encountered in exp\n",
      "  return 1/(1 + np.exp(-x))\n"
     ]
    }
   ],
   "source": [
    "learnRate = 0.0000001\n",
    "batchSize = 1000\n",
    "errorList = []\n",
    "error = 1\n",
    "\n",
    "for i in range(300):\n",
    "    interval = random.randint(0, 60000-batchSize)\n",
    "    im = np.array(images[interval:interval + batchSize])\n",
    "    intermediate = sig(np.dot(im, weight1))\n",
    "    result = sig(np.dot(intermediate, weight2))\n",
    "    error = np.sum((modLabels[interval:interval + batchSize] - result)**2)/batchSize\n",
    "    errorList.append(error)\n",
    "    \n",
    "    d_weights1 = np.dot(im.T,  (np.dot(2*(modLabels[interval:interval + batchSize] - result) * sigmoid_derivative(result), weight2.T) * sigmoid_derivative(intermediate))) * learnRate\n",
    "    d_weights2 = np.dot(intermediate.T, (2*(modLabels[interval:interval + batchSize] - result) * sigmoid_derivative(result))) * learnRate\n",
    "    weight1 += d_weights1\n",
    "    weight2 += d_weights2"
   ]
  },
  {
   "cell_type": "code",
   "execution_count": 9,
   "id": "8b1d3bba-d099-4b39-a6c7-3041fd89c5bc",
   "metadata": {},
   "outputs": [
    {
     "data": {
      "text/plain": [
       "[<matplotlib.lines.Line2D at 0x1cac8e098b0>]"
      ]
     },
     "execution_count": 9,
     "metadata": {},
     "output_type": "execute_result"
    },
    {
     "data": {
      "image/png": "[encoded data removed]",
      "text/plain": [
       "<Figure size 432x288 with 1 Axes>"
      ]
     },
     "metadata": {
      "needs_background": "light"
     },
     "output_type": "display_data"
    }
   ],
   "source": [
    " plt.plot(errorList)"
   ]
  }
 ],
 "metadata": {
  "kernelspec": {
   "display_name": "Python 3 (ipykernel)",
   "language": "python",
   "name": "python3"
  },
  "language_info": {
   "codemirror_mode": {
    "name": "ipython",
    "version": 3
   },
   "file_extension": ".py",
   "mimetype": "text/x-python",
   "name": "python",
   "nbconvert_exporter": "python",
   "pygments_lexer": "ipython3",
   "version": "3.9.7"
  }
 },
 "nbformat": 4,
 "nbformat_minor": 5
}
